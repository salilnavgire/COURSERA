{
 "cells": [
  {
   "cell_type": "code",
   "execution_count": 1,
   "metadata": {},
   "outputs": [],
   "source": [
    "import math\n",
    "import random\n",
    "\n",
    "\n",
    "class Sort:\n",
    "    def __init__(self):\n",
    "        self.n = 0\n",
    "\n",
    "    def Median(self, a, b, c):\n",
    "        # print(a, b, c)\n",
    "        x = a - b\n",
    "        y = b - c\n",
    "        z = a - c\n",
    "        if x * y >= 0:\n",
    "            return b\n",
    "        elif x * z >= 0:\n",
    "            return c\n",
    "        else:\n",
    "            return a\n",
    "\n",
    "    def ChoosePivotMedian(self, A, l, r):\n",
    "        if r - l < 2:\n",
    "            return l\n",
    "        median = (math.ceil(len(A[l:r]) / 2) - 1) + l\n",
    "        m = self.Median(A[l], A[median], A[r - 1])\n",
    "        # print(A[l], A[median], A[r - 1])\n",
    "        # print(\"median\", m, A.index(m))\n",
    "        return A.index(m)\n",
    "\n",
    "    def ChoosePivotFirst(self, A, l, r):\n",
    "        return l\n",
    "\n",
    "    def ChoosePivotLast(self, A, l, r):\n",
    "        return r - 1\n",
    "\n",
    "    def ChoosePivotRandom(self, A, l, r):\n",
    "        return random.choice(range(l, r))\n",
    "\n",
    "    def Partition(self, A):\n",
    "        l = 0\n",
    "        r = len(A)\n",
    "        p = A[l]\n",
    "        i = l + 1\n",
    "        for j in range(l + 1, r):\n",
    "            # self.n += 1\n",
    "            if A[j] < p:\n",
    "                A[j], A[i] = A[i], A[j]\n",
    "                i += 1\n",
    "        A[i - 1], A[l] = A[l], A[i - 1]\n",
    "        return A, i - 1\n",
    "\n",
    "    def QuickSort(self, A, l=0, r=None):\n",
    "        if r is None:\n",
    "            r = len(A)\n",
    "        # print(A, l, r)\n",
    "        if l >= r or r < 1:\n",
    "            return A\n",
    "        else:\n",
    "            # print(r - l)\n",
    "            pass\n",
    "        i = self.ChoosePivotRandom(A, l, r)\n",
    "        A[i], A[l] = A[l], A[i]\n",
    "        # j = self.Partition(A, l, r)\n",
    "        # self.n += (r - l - 1)\n",
    "        # self.QuickSort(A, l, j - 1)\n",
    "        # self.QuickSort(A, j + 1, r)\n",
    "        A, j = self.Partition(A)\n",
    "        self.n += (r - l - 1)\n",
    "        A[:j] = self.QuickSort(A[:j])\n",
    "        A[j + 1:] = self.QuickSort(A[j + 1:])\n",
    "        return A\n",
    "\n",
    "    def PartitionOld(self, A, l, r):\n",
    "        p = A[l]\n",
    "        i = l + 1\n",
    "        for j in range(l + 1, r):\n",
    "            self.n += 1\n",
    "            if A[j] < p:\n",
    "                A[j], A[i] = A[i], A[j]\n",
    "                i += 1\n",
    "        A[i - 1], A[l] = A[l], A[i - 1]\n",
    "        return i - 1\n",
    "\n",
    "    def QuickSortOld(self, A, l=0, r=None):\n",
    "        if r is None:\n",
    "            r = len(A)\n",
    "        if l >= r:\n",
    "            return\n",
    "        # print(A, l, r)\n",
    "        i = self.ChoosePivotLast(A, l, r)\n",
    "        A[i], A[l] = A[l], A[i]\n",
    "        j = self.PartitionOld(A, i, r)\n",
    "        print(j, A[l:j], A[j:r])\n",
    "        # self.n += (r - l - 1)\n",
    "        self.QuickSortOld(A, l, j)\n",
    "        self.QuickSortOld(A, j + 1, r)\n",
    "        return A[l:r]\n"
   ]
  },
  {
   "cell_type": "code",
   "execution_count": 5,
   "metadata": {},
   "outputs": [
    {
     "name": "stdout",
     "output_type": "stream",
     "text": [
      "164830\n"
     ]
    }
   ],
   "source": [
    "\n",
    "# A = [2, 4, 3, 5, 6, 8]\n",
    "#A = [5, 4, 3, 2, 1]\n",
    "with open('QuickSort.txt') as f:\n",
    "    A = [int(x) for x in f]\n",
    "s = Sort()\n",
    "# A = s.QuickSortOld(A)\n",
    "A = s.QuickSort(A)\n",
    "# print(A)\n",
    "print(s.n)\n"
   ]
  },
  {
   "cell_type": "code",
   "execution_count": 6,
   "metadata": {},
   "outputs": [],
   "source": [
    "# first 162085\n",
    "# last 164123\n",
    "# median 138382"
   ]
  },
  {
   "cell_type": "code",
   "execution_count": null,
   "metadata": {},
   "outputs": [],
   "source": [
    "comparisons = []\n"
   ]
  },
  {
   "cell_type": "code",
   "execution_count": null,
   "metadata": {},
   "outputs": [],
   "source": []
  },
  {
   "cell_type": "code",
   "execution_count": null,
   "metadata": {},
   "outputs": [],
   "source": []
  },
  {
   "cell_type": "code",
   "execution_count": null,
   "metadata": {},
   "outputs": [],
   "source": [
    "for _ in range(1000):\n",
    "\n",
    "    with open('QuickSort.txt') as f:\n",
    "        A = [int(x) for x in f]\n",
    "    s = Sort()\n",
    "    A = s.QuickSort(A)\n",
    "    comparisons.append(s.n)\n"
   ]
  },
  {
   "cell_type": "code",
   "execution_count": null,
   "metadata": {},
   "outputs": [],
   "source": [
    "%matplotlib inline\n"
   ]
  },
  {
   "cell_type": "code",
   "execution_count": null,
   "metadata": {},
   "outputs": [],
   "source": [
    "import pandas as pd"
   ]
  },
  {
   "cell_type": "code",
   "execution_count": null,
   "metadata": {},
   "outputs": [],
   "source": [
    "df = pd.DataFrame(comparisons)"
   ]
  },
  {
   "cell_type": "code",
   "execution_count": null,
   "metadata": {},
   "outputs": [],
   "source": [
    "df.hist(bins=40)"
   ]
  },
  {
   "cell_type": "code",
   "execution_count": null,
   "metadata": {},
   "outputs": [],
   "source": []
  },
  {
   "cell_type": "code",
   "execution_count": null,
   "metadata": {},
   "outputs": [],
   "source": []
  },
  {
   "cell_type": "code",
   "execution_count": null,
   "metadata": {},
   "outputs": [],
   "source": []
  },
  {
   "cell_type": "code",
   "execution_count": null,
   "metadata": {},
   "outputs": [],
   "source": []
  },
  {
   "cell_type": "code",
   "execution_count": null,
   "metadata": {},
   "outputs": [],
   "source": []
  },
  {
   "cell_type": "code",
   "execution_count": null,
   "metadata": {},
   "outputs": [],
   "source": []
  },
  {
   "cell_type": "code",
   "execution_count": null,
   "metadata": {},
   "outputs": [],
   "source": []
  },
  {
   "cell_type": "code",
   "execution_count": null,
   "metadata": {},
   "outputs": [],
   "source": []
  },
  {
   "cell_type": "code",
   "execution_count": null,
   "metadata": {},
   "outputs": [],
   "source": []
  }
 ],
 "metadata": {
  "kernelspec": {
   "display_name": "Python 3",
   "language": "python",
   "name": "python3"
  },
  "language_info": {
   "codemirror_mode": {
    "name": "ipython",
    "version": 3
   },
   "file_extension": ".py",
   "mimetype": "text/x-python",
   "name": "python",
   "nbconvert_exporter": "python",
   "pygments_lexer": "ipython3",
   "version": "3.6.0"
  },
  "toc": {
   "base_numbering": 1,
   "nav_menu": {},
   "number_sections": true,
   "sideBar": true,
   "skip_h1_title": false,
   "title_cell": "Table of Contents",
   "title_sidebar": "Contents",
   "toc_cell": false,
   "toc_position": {},
   "toc_section_display": true,
   "toc_window_display": false
  },
  "varInspector": {
   "cols": {
    "lenName": 16,
    "lenType": 16,
    "lenVar": 40
   },
   "kernels_config": {
    "python": {
     "delete_cmd_postfix": "",
     "delete_cmd_prefix": "del ",
     "library": "var_list.py",
     "varRefreshCmd": "print(var_dic_list())"
    },
    "r": {
     "delete_cmd_postfix": ") ",
     "delete_cmd_prefix": "rm(",
     "library": "var_list.r",
     "varRefreshCmd": "cat(var_dic_list()) "
    }
   },
   "types_to_exclude": [
    "module",
    "function",
    "builtin_function_or_method",
    "instance",
    "_Feature"
   ],
   "window_display": false
  }
 },
 "nbformat": 4,
 "nbformat_minor": 2
}
